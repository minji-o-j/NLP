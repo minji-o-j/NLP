{
 "cells": [
  {
   "cell_type": "markdown",
   "metadata": {},
   "source": [
    "## 1. konlpy 패키지 다운로드 (처음 한번)"
   ]
  },
  {
   "cell_type": "code",
   "execution_count": 1,
   "metadata": {
    "collapsed": true
   },
   "outputs": [
    {
     "name": "stdout",
     "output_type": "stream",
     "text": [
      "Collecting konlpy\n",
      "  Downloading konlpy-0.5.2-py2.py3-none-any.whl (19.4 MB)\n",
      "\u001b[K     |████████████████████████████████| 19.4 MB 4.5 MB/s eta 0:00:01\n",
      "\u001b[?25hRequirement already satisfied: lxml>=4.1.0 in /home/ec2-user/anaconda3/envs/pytorch_p36/lib/python3.6/site-packages (from konlpy) (4.5.0)\n",
      "Requirement already satisfied: colorama in /home/ec2-user/anaconda3/envs/pytorch_p36/lib/python3.6/site-packages (from konlpy) (0.4.3)\n",
      "Collecting beautifulsoup4==4.6.0\n",
      "  Downloading beautifulsoup4-4.6.0-py3-none-any.whl (86 kB)\n",
      "\u001b[K     |████████████████████████████████| 86 kB 1.3 MB/s  eta 0:00:01\n",
      "\u001b[?25hCollecting tweepy>=3.7.0\n",
      "  Downloading tweepy-3.9.0-py2.py3-none-any.whl (30 kB)\n",
      "Collecting JPype1>=0.7.0\n",
      "  Downloading JPype1-1.1.2-cp36-cp36m-manylinux2010_x86_64.whl (450 kB)\n",
      "\u001b[K     |████████████████████████████████| 450 kB 49.2 MB/s eta 0:00:01\n",
      "\u001b[?25hRequirement already satisfied: numpy>=1.6 in /home/ec2-user/anaconda3/envs/pytorch_p36/lib/python3.6/site-packages (from konlpy) (1.18.1)\n",
      "Requirement already satisfied: requests[socks]>=2.11.1 in /home/ec2-user/anaconda3/envs/pytorch_p36/lib/python3.6/site-packages (from tweepy>=3.7.0->konlpy) (2.22.0)\n",
      "Collecting requests-oauthlib>=0.7.0\n",
      "  Downloading requests_oauthlib-1.3.0-py2.py3-none-any.whl (23 kB)\n",
      "Requirement already satisfied: six>=1.10.0 in /home/ec2-user/anaconda3/envs/pytorch_p36/lib/python3.6/site-packages (from tweepy>=3.7.0->konlpy) (1.14.0)\n",
      "Requirement already satisfied: typing-extensions; python_version < \"3.8\" in /home/ec2-user/anaconda3/envs/pytorch_p36/lib/python3.6/site-packages (from JPype1>=0.7.0->konlpy) (3.7.4.3)\n",
      "Requirement already satisfied: urllib3!=1.25.0,!=1.25.1,<1.26,>=1.21.1 in /home/ec2-user/anaconda3/envs/pytorch_p36/lib/python3.6/site-packages (from requests[socks]>=2.11.1->tweepy>=3.7.0->konlpy) (1.25.10)\n",
      "Requirement already satisfied: certifi>=2017.4.17 in /home/ec2-user/anaconda3/envs/pytorch_p36/lib/python3.6/site-packages (from requests[socks]>=2.11.1->tweepy>=3.7.0->konlpy) (2020.6.20)\n",
      "Requirement already satisfied: idna<2.9,>=2.5 in /home/ec2-user/anaconda3/envs/pytorch_p36/lib/python3.6/site-packages (from requests[socks]>=2.11.1->tweepy>=3.7.0->konlpy) (2.8)\n",
      "Requirement already satisfied: chardet<3.1.0,>=3.0.2 in /home/ec2-user/anaconda3/envs/pytorch_p36/lib/python3.6/site-packages (from requests[socks]>=2.11.1->tweepy>=3.7.0->konlpy) (3.0.4)\n",
      "Requirement already satisfied: PySocks!=1.5.7,>=1.5.6; extra == \"socks\" in /home/ec2-user/anaconda3/envs/pytorch_p36/lib/python3.6/site-packages (from requests[socks]>=2.11.1->tweepy>=3.7.0->konlpy) (1.7.1)\n",
      "Collecting oauthlib>=3.0.0\n",
      "  Downloading oauthlib-3.1.0-py2.py3-none-any.whl (147 kB)\n",
      "\u001b[K     |████████████████████████████████| 147 kB 65.3 MB/s eta 0:00:01\n",
      "\u001b[31mERROR: fastai 1.0.61 requires nvidia-ml-py3, which is not installed.\u001b[0m\n",
      "\u001b[?25hInstalling collected packages: beautifulsoup4, oauthlib, requests-oauthlib, tweepy, JPype1, konlpy\n",
      "  Attempting uninstall: beautifulsoup4\n",
      "    Found existing installation: beautifulsoup4 4.8.2\n",
      "    Uninstalling beautifulsoup4-4.8.2:\n",
      "      Successfully uninstalled beautifulsoup4-4.8.2\n",
      "Successfully installed JPype1-1.1.2 beautifulsoup4-4.6.0 konlpy-0.5.2 oauthlib-3.1.0 requests-oauthlib-1.3.0 tweepy-3.9.0\n",
      "\u001b[33mWARNING: You are using pip version 20.0.2; however, version 20.2.4 is available.\n",
      "You should consider upgrading via the '/home/ec2-user/anaconda3/envs/pytorch_p36/bin/python -m pip install --upgrade pip' command.\u001b[0m\n"
     ]
    }
   ],
   "source": [
    "!pip install konlpy"
   ]
  },
  {
   "cell_type": "markdown",
   "metadata": {},
   "source": [
    "## 2. konlpy 관련 패키지 import"
   ]
  },
  {
   "cell_type": "code",
   "execution_count": 2,
   "metadata": {},
   "outputs": [],
   "source": [
    "from konlpy.tag import Okt\n",
    "from konlpy.tag import Kkma\n",
    "from konlpy.tag import Hannanum\n",
    "from konlpy.tag import Komoran\n",
    "from konlpy.tag import Twitter\n",
    "from konlpy.tag import Mecab"
   ]
  },
  {
   "cell_type": "markdown",
   "metadata": {},
   "source": [
    "## 3. 객체 생성"
   ]
  },
  {
   "cell_type": "code",
   "execution_count": 3,
   "metadata": {},
   "outputs": [
    {
     "name": "stderr",
     "output_type": "stream",
     "text": [
      "/home/ec2-user/anaconda3/envs/pytorch_p36/lib/python3.6/site-packages/konlpy/tag/_okt.py:16: UserWarning: \"Twitter\" has changed to \"Okt\" since KoNLPy v0.4.5.\n",
      "  warn('\"Twitter\" has changed to \"Okt\" since KoNLPy v0.4.5.')\n"
     ]
    }
   ],
   "source": [
    "kkma = Kkma()\n",
    "okt = Okt()\n",
    "komoran = Komoran()\n",
    "hannanum = Hannanum()\n",
    "twitter = Twitter()"
   ]
  },
  {
   "cell_type": "markdown",
   "metadata": {},
   "source": [
    "## 4. 문장 분리 (Kkma only)"
   ]
  },
  {
   "cell_type": "code",
   "execution_count": 4,
   "metadata": {},
   "outputs": [
    {
     "name": "stdout",
     "output_type": "stream",
     "text": [
      "kkma 문장 분리:  ['네 안녕하세요.', '반갑습니다']\n"
     ]
    }
   ],
   "source": [
    "# konlpy 중 Kkma는 문장 분리가 가능 (다른 라이브러리는 되지 않음)\n",
    "print(\"kkma 문장 분리: \", kkma.sentences(\"네 안녕하세요. 반갑습니다\"))"
   ]
  },
  {
   "cell_type": "code",
   "execution_count": 5,
   "metadata": {},
   "outputs": [
    {
     "name": "stdout",
     "output_type": "stream",
     "text": [
      "kkma 문장 분리:  ['네 안녕하세요', '반갑습니다']\n"
     ]
    }
   ],
   "source": [
    "# konlpy 중 Kkma는 문장 분리가 가능 (다른 라이브러리는 되지 않음)\n",
    "print(\"kkma 문장 분리: \", kkma.sentences(\"네안녕하세요반갑습니다\"))"
   ]
  },
  {
   "cell_type": "markdown",
   "metadata": {},
   "source": [
    "## 5. 형태소 분석"
   ]
  },
  {
   "cell_type": "code",
   "execution_count": 8,
   "metadata": {},
   "outputs": [
    {
     "name": "stdout",
     "output_type": "stream",
     "text": [
      "okt 형태소 분석:  ['세종대왕', '님', '은', '글', '을', '만드셨습니다', '.']\n",
      "kkma 형태소 분석:  ['세종', '대왕', '님', '은', '글', '을', '만들', '시', '었', '습니다', '.']\n",
      "hannanum 형태소 분석:  ['세종대왕님', '은', '글', '을', '만들', '셨습니다', '.']\n",
      "komoran 형태소 분석:  ['세종대왕', '님', '은', '글', '을', '만들', '시', '었', '습니다', '.']\n",
      "twitter 형태소 분석:  ['세종대왕', '님', '은', '글', '을', '만드셨습니다', '.']\n"
     ]
    }
   ],
   "source": [
    "in_str = u\"세종대왕님은 글을 만드셨습니다.\" # u: unicode <->ascii code\n",
    "#in_str = \"세종대왕님은 글을 만드셨습니다.\" # u 없어도 되긴 됨\n",
    "\n",
    "# konlpy의 라이브러리 형태소 분석 비교\n",
    "## 라이브러리마다 형태소를 분석하는 기준이 약간씩 다른 것을 확인 할 수 있다.\n",
    "print(\"okt 형태소 분석: \", okt.morphs(in_str))\n",
    "print(\"kkma 형태소 분석: \", kkma.morphs(in_str))\n",
    "print(\"hannanum 형태소 분석: \", hannanum.morphs(in_str))\n",
    "print(\"komoran 형태소 분석: \", komoran.morphs(in_str))\n",
    "print(\"twitter 형태소 분석: \", twitter.morphs(in_str))"
   ]
  },
  {
   "cell_type": "markdown",
   "metadata": {},
   "source": [
    "## 6. 품사 태깅\n",
    "- 품사 태깅 표 (꼬꼬마)\n",
    "http://kkma.snu.ac.kr/documents/?doc=postag\n",
    "  - NNG: 일반명사\n",
    "  - JKO: 목적격 조사"
   ]
  },
  {
   "cell_type": "code",
   "execution_count": 10,
   "metadata": {},
   "outputs": [
    {
     "name": "stdout",
     "output_type": "stream",
     "text": [
      "okt 품사 태깅:  [('세종대왕', 'Noun'), ('님', 'Suffix'), ('은', 'Josa'), ('글', 'Noun'), ('을', 'Josa'), ('만드셨습니다', 'Verb'), ('.', 'Punctuation')]\n",
      "kkma 품사 태깅:  [('세종', 'NNG'), ('대왕', 'NNG'), ('님', 'XSN'), ('은', 'JX'), ('글', 'NNG'), ('을', 'JKO'), ('만들', 'VV'), ('시', 'EPH'), ('었', 'EPT'), ('습니다', 'EFN'), ('.', 'SF')]\n",
      "hannanum 품사 태깅:  [('세종대왕님', 'N'), ('은', 'J'), ('글', 'N'), ('을', 'J'), ('만들', 'P'), ('셨습니다', 'E'), ('.', 'S')]\n",
      "komoran 품사 태깅:  [('세종대왕', 'NNP'), ('님', 'XSN'), ('은', 'JX'), ('글', 'NNG'), ('을', 'JKO'), ('만들', 'VV'), ('시', 'EP'), ('었', 'EP'), ('습니다', 'EF'), ('.', 'SF')]\n",
      "twitter 품사 태깅:  [('세종대왕', 'Noun'), ('님', 'Suffix'), ('은', 'Josa'), ('글', 'Noun'), ('을', 'Josa'), ('만드셨습니다', 'Verb'), ('.', 'Punctuation')]\n"
     ]
    }
   ],
   "source": [
    "in_str = u\"세종대왕님은 글을 만드셨습니다.\"\n",
    "\n",
    "# konlpy의 라이브러리 품사 태깅 비교\n",
    "print(\"okt 품사 태깅: \", okt.pos(in_str))\n",
    "print(\"kkma 품사 태깅: \", kkma.pos(in_str))\n",
    "print(\"hannanum 품사 태깅: \", hannanum.pos(in_str))\n",
    "print(\"komoran 품사 태깅: \", komoran.pos(in_str))\n",
    "print(\"twitter 품사 태깅: \", twitter.pos(in_str))\n"
   ]
  }
 ],
 "metadata": {
  "kernelspec": {
   "display_name": "conda_pytorch_p36",
   "language": "python",
   "name": "conda_pytorch_p36"
  },
  "language_info": {
   "codemirror_mode": {
    "name": "ipython",
    "version": 3
   },
   "file_extension": ".py",
   "mimetype": "text/x-python",
   "name": "python",
   "nbconvert_exporter": "python",
   "pygments_lexer": "ipython3",
   "version": "3.6.10"
  }
 },
 "nbformat": 4,
 "nbformat_minor": 4
}
