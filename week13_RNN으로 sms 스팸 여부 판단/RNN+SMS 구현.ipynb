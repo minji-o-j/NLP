{
 "cells": [
  {
   "cell_type": "markdown",
   "metadata": {},
   "source": [
    "# 0.1 라이브러리 import"
   ]
  },
  {
   "cell_type": "code",
   "execution_count": 1,
   "metadata": {},
   "outputs": [],
   "source": [
    "import torch\n",
    "import torch.nn as nn\n",
    "import torchvision.datasets as dset\n",
    "import torchvision.transforms as transforms\n",
    "import matplotlib.pyplot as plt\n",
    "from torch.autograd import Variable\n",
    "import numpy as np"
   ]
  },
  {
   "cell_type": "markdown",
   "metadata": {},
   "source": [
    "# 0.2 하이퍼파라미터 셋팅"
   ]
  },
  {
   "cell_type": "code",
   "execution_count": 2,
   "metadata": {},
   "outputs": [],
   "source": [
    "batch_size=128\n",
    "num_epochs=10\n",
    "\n",
    "word_vec_size=256\n",
    "dropout_p=0.3\n",
    "\n",
    "hidden_size=512\n",
    "num_layers=4\n",
    "\n",
    "learning_rate=0.001"
   ]
  },
  {
   "cell_type": "code",
   "execution_count": 3,
   "metadata": {},
   "outputs": [],
   "source": [
    "# Device configuration\n",
    "device=torch.device('cuda' if torch.cuda.is_available() else 'cpu')"
   ]
  },
  {
   "cell_type": "markdown",
   "metadata": {},
   "source": [
    "# 1. SMS train, test dataset 가져오기"
   ]
  },
  {
   "cell_type": "code",
   "execution_count": 4,
   "metadata": {},
   "outputs": [],
   "source": [
    "from data_loader import DataLoader"
   ]
  },
  {
   "cell_type": "code",
   "execution_count": 5,
   "metadata": {},
   "outputs": [],
   "source": [
    "loaders=DataLoader(\n",
    "    train_fn='./sms.maxlen.uniq.shuf.train.tsv',\n",
    "    batch_size=batch_size,\n",
    "    valid_ratio=.2, #8:2\n",
    "    device=-1,\n",
    "    max_vocab=999999,\n",
    "    min_freq=5,\n",
    ")"
   ]
  },
  {
   "cell_type": "code",
   "execution_count": 6,
   "metadata": {},
   "outputs": [],
   "source": [
    "test_loaders=DataLoader(\n",
    "    train_fn='./sms.maxlen.uniq.shuf.test.tsv',\n",
    "    batch_size=batch_size,\n",
    "    valid_ratio=.01, #모두 trai\n",
    "    device=-1,\n",
    "    max_vocab=999999,\n",
    "    min_freq=5,\n",
    ")"
   ]
  },
  {
   "cell_type": "markdown",
   "metadata": {},
   "source": [
    "# 2. 대략적인 데이터 형태"
   ]
  },
  {
   "cell_type": "code",
   "execution_count": 7,
   "metadata": {},
   "outputs": [
    {
     "name": "stdout",
     "output_type": "stream",
     "text": [
      "|train| =  3722 |valid| = 930\n",
      "|vocab| =  1549 |classes| = 2\n"
     ]
    }
   ],
   "source": [
    "print(\"|train| = \",len(loaders.train_loader.dataset),\n",
    "      \"|valid| =\", len(loaders.valid_loader.dataset))\n",
    "vocab_size=len(loaders.text.vocab)\n",
    "num_classes=len(loaders.label.vocab)\n",
    "print('|vocab| = ',vocab_size, '|classes| =',num_classes)\n"
   ]
  },
  {
   "cell_type": "markdown",
   "metadata": {},
   "source": [
    "# 3. 데이터 로드함수\n",
    "- 학습시킬 때 batch_size 단위로 끊어서 로드하기 위함!"
   ]
  },
  {
   "cell_type": "code",
   "execution_count": 8,
   "metadata": {
    "scrolled": true
   },
   "outputs": [
    {
     "name": "stdout",
     "output_type": "stream",
     "text": [
      "[0]\n",
      "한 번에 로드되는 데이터 크기: 128\n",
      "label:  0\n",
      "text:  (24,)\n",
      "label:  0\n",
      "text:  (24,)\n",
      "label:  0\n",
      "text:  (24,)\n",
      "[1]\n",
      "한 번에 로드되는 데이터 크기: 128\n",
      "label:  0\n",
      "text:  (4,)\n",
      "label:  0\n",
      "text:  (4,)\n",
      "label:  0\n",
      "text:  (4,)\n",
      "[2]\n",
      "한 번에 로드되는 데이터 크기: 128\n",
      "label:  0\n",
      "text:  (7,)\n",
      "label:  0\n",
      "text:  (7,)\n",
      "label:  0\n",
      "text:  (7,)\n",
      "[3]\n",
      "한 번에 로드되는 데이터 크기: 128\n",
      "label:  1\n",
      "text:  (22,)\n",
      "label:  1\n",
      "text:  (22,)\n",
      "label:  1\n",
      "text:  (22,)\n"
     ]
    }
   ],
   "source": [
    "n=3 #샘플로 출력할 데이터의 개수\n",
    "for i, data in enumerate(loaders.train_loader):\n",
    "    labels=data.label\n",
    "    texts=data.text\n",
    "    \n",
    "    if i>n:\n",
    "        break\n",
    "    print(\"[%d]\" %i)\n",
    "    print(\"한 번에 로드되는 데이터 크기:\", len(labels))\n",
    "    \n",
    "    #출력\n",
    "    for j in range(n):\n",
    "        label=labels[j].numpy() #tensor를 numpy로 변환\n",
    "        text=texts[j].numpy()\n",
    "        print(\"label: \",label)\n",
    "        print(\"text: \",text.shape)"
   ]
  },
  {
   "cell_type": "markdown",
   "metadata": {},
   "source": [
    "# 4. 모델 선언"
   ]
  },
  {
   "cell_type": "code",
   "execution_count": 9,
   "metadata": {},
   "outputs": [],
   "source": [
    "class RNN(nn.Module):\n",
    "    def __init__(self,\n",
    "                 input_size,\n",
    "                 word_vec_size,\n",
    "                 hidden_size, \n",
    "                 n_classes,\n",
    "                 num_layers=4,\n",
    "                 dropout_p=0.3\n",
    "                ):\n",
    "        super(RNN, self).__init__()\n",
    "        \n",
    "        self.input_size=input_size\n",
    "        self.sord_vec_size=word_vec_size\n",
    "        self.hidden_size = hidden_size\n",
    "        self.n_classes=n_classes\n",
    "        self.num_layers = num_layers\n",
    "        self.dropout_p=dropout_p\n",
    "        \n",
    "        #입력차원(vocab_size), 출력차원(word_vec_size)\n",
    "        self.emb=nn.Embedding(input_size,word_vec_size)\n",
    "        \n",
    "        self.lstm=nn.LSTM(input_size=word_vec_size,\n",
    "                         hidden_size=hidden_size,\n",
    "                         num_layers=num_layers,\n",
    "                             dropout=dropout_p,\n",
    "                             batch_first=True,\n",
    "                             bidirectional=True)\n",
    "        \n",
    "        self.fc = nn.Linear(hidden_size*2, num_classes)\n",
    "        self.activation=nn.LogSoftmax(dim=1)\n",
    "        \n",
    "    def forward(self, x):\n",
    "        x=self.emb(x)\n",
    "        \n",
    "        x,_=self.lstm(x)\n",
    "        \n",
    "        out=self.activation(self.fc(x[:,-1]))\n",
    "        \n",
    "        return out"
   ]
  },
  {
   "cell_type": "code",
   "execution_count": 10,
   "metadata": {},
   "outputs": [],
   "source": [
    "model=RNN(input_size=vocab_size,\n",
    "         word_vec_size=word_vec_size,\n",
    "         hidden_size=hidden_size,\n",
    "         n_classes=num_classes,\n",
    "         num_layers=num_layers,\n",
    "         dropout_p=dropout_p)"
   ]
  },
  {
   "cell_type": "code",
   "execution_count": 11,
   "metadata": {},
   "outputs": [],
   "source": [
    "def ComputeAccr(dloader, imodel):\n",
    "    correct=0\n",
    "    total=0\n",
    "    \n",
    "    model.eval() #test mode\n",
    "    for i,data in enumerate(dloader): #batch_size 만큼\n",
    "        texts=data.text.to(device)\n",
    "        labels=data.label.to(device)\n",
    "        \n",
    "        # Forward prop.\n",
    "        output=model(texts) #(batch_size, num_classes)\n",
    "        _, output_index=torch.max(output,1) # (batch_size, 1)\n",
    "        \n",
    "        total+=labels.size(0)\n",
    "        correct+=(output_index==labels).sum().float()\n",
    "    model.train()\n",
    "    return (100*correct/total).cpu().numpy() # tensor -> numpy "
   ]
  },
  {
   "cell_type": "code",
   "execution_count": 12,
   "metadata": {},
   "outputs": [
    {
     "name": "stdout",
     "output_type": "stream",
     "text": [
      "Accuracy of Test Data: 10.97\n"
     ]
    }
   ],
   "source": [
    "print(\"Accuracy of Test Data: %.2f\" %ComputeAccr(loaders.valid_loader, model))"
   ]
  },
  {
   "cell_type": "markdown",
   "metadata": {},
   "source": [
    "# 5. loss, optimizer"
   ]
  },
  {
   "cell_type": "code",
   "execution_count": 13,
   "metadata": {},
   "outputs": [],
   "source": [
    "loss_func=nn.NLLLoss()\n",
    "optimizer=torch.optim.Adam(model.parameters(),lr=learning_rate)"
   ]
  },
  {
   "cell_type": "markdown",
   "metadata": {},
   "source": [
    "# 6. 학습"
   ]
  },
  {
   "cell_type": "code",
   "execution_count": 14,
   "metadata": {
    "scrolled": true
   },
   "outputs": [
    {
     "name": "stdout",
     "output_type": "stream",
     "text": [
      "[0]\n",
      "[1]\n",
      "[2]\n",
      "[3]\n",
      "[4]\n",
      "[5]\n",
      "[6]\n",
      "[7]\n",
      "[8]\n",
      "[9]\n",
      "Epoch [1/10], Step [10/30], Loss: 0.7219, Accr:12.15\n",
      "[10]\n",
      "[11]\n",
      "[12]\n",
      "[13]\n",
      "[14]\n",
      "[15]\n",
      "[16]\n",
      "[17]\n",
      "[18]\n",
      "[19]\n",
      "Epoch [1/10], Step [20/30], Loss: 0.3237, Accr:89.03\n",
      "[20]\n",
      "[21]\n",
      "[22]\n",
      "[23]\n",
      "[24]\n",
      "[25]\n",
      "[26]\n",
      "[27]\n",
      "[28]\n",
      "[29]\n",
      "Epoch [1/10], Step [30/30], Loss: 0.1236, Accr:89.03\n",
      "[0]\n",
      "[1]\n",
      "[2]\n",
      "[3]\n",
      "[4]\n",
      "[5]\n",
      "[6]\n",
      "[7]\n",
      "[8]\n",
      "[9]\n",
      "Epoch [2/10], Step [10/30], Loss: 0.6869, Accr:89.03\n",
      "[10]\n",
      "[11]\n",
      "[12]\n",
      "[13]\n",
      "[14]\n",
      "[15]\n",
      "[16]\n",
      "[17]\n",
      "[18]\n",
      "[19]\n",
      "Epoch [2/10], Step [20/30], Loss: 0.1732, Accr:89.03\n",
      "[20]\n",
      "[21]\n",
      "[22]\n",
      "[23]\n",
      "[24]\n",
      "[25]\n",
      "[26]\n",
      "[27]\n",
      "[28]\n",
      "[29]\n",
      "Epoch [2/10], Step [30/30], Loss: 0.9942, Accr:89.03\n",
      "[0]\n",
      "[1]\n",
      "[2]\n",
      "[3]\n",
      "[4]\n",
      "[5]\n",
      "[6]\n",
      "[7]\n",
      "[8]\n",
      "[9]\n",
      "Epoch [3/10], Step [10/30], Loss: 0.1750, Accr:89.03\n",
      "[10]\n",
      "[11]\n",
      "[12]\n",
      "[13]\n",
      "[14]\n",
      "[15]\n",
      "[16]\n",
      "[17]\n",
      "[18]\n",
      "[19]\n",
      "Epoch [3/10], Step [20/30], Loss: 0.6406, Accr:89.03\n",
      "[20]\n",
      "[21]\n",
      "[22]\n",
      "[23]\n",
      "[24]\n",
      "[25]\n",
      "[26]\n",
      "[27]\n",
      "[28]\n",
      "[29]\n",
      "Epoch [3/10], Step [30/30], Loss: 1.1027, Accr:89.03\n",
      "[0]\n",
      "[1]\n",
      "[2]\n",
      "[3]\n",
      "[4]\n",
      "[5]\n",
      "[6]\n",
      "[7]\n",
      "[8]\n",
      "[9]\n",
      "Epoch [4/10], Step [10/30], Loss: 0.8481, Accr:89.03\n",
      "[10]\n",
      "[11]\n",
      "[12]\n",
      "[13]\n",
      "[14]\n",
      "[15]\n",
      "[16]\n",
      "[17]\n",
      "[18]\n",
      "[19]\n",
      "Epoch [4/10], Step [20/30], Loss: 0.1886, Accr:89.03\n",
      "[20]\n",
      "[21]\n",
      "[22]\n",
      "[23]\n",
      "[24]\n",
      "[25]\n",
      "[26]\n",
      "[27]\n",
      "[28]\n",
      "[29]\n",
      "Epoch [4/10], Step [30/30], Loss: 0.1489, Accr:89.03\n",
      "[0]\n",
      "[1]\n",
      "[2]\n",
      "[3]\n",
      "[4]\n",
      "[5]\n",
      "[6]\n",
      "[7]\n",
      "[8]\n",
      "[9]\n",
      "Epoch [5/10], Step [10/30], Loss: 0.1458, Accr:89.03\n",
      "[10]\n",
      "[11]\n",
      "[12]\n",
      "[13]\n",
      "[14]\n",
      "[15]\n",
      "[16]\n",
      "[17]\n",
      "[18]\n",
      "[19]\n",
      "Epoch [5/10], Step [20/30], Loss: 0.6528, Accr:89.03\n",
      "[20]\n",
      "[21]\n",
      "[22]\n",
      "[23]\n",
      "[24]\n",
      "[25]\n",
      "[26]\n",
      "[27]\n",
      "[28]\n",
      "[29]\n",
      "Epoch [5/10], Step [30/30], Loss: 0.2615, Accr:89.03\n",
      "[0]\n",
      "[1]\n",
      "[2]\n",
      "[3]\n",
      "[4]\n",
      "[5]\n",
      "[6]\n",
      "[7]\n",
      "[8]\n",
      "[9]\n",
      "Epoch [6/10], Step [10/30], Loss: 0.2681, Accr:89.03\n",
      "[10]\n",
      "[11]\n",
      "[12]\n",
      "[13]\n",
      "[14]\n",
      "[15]\n",
      "[16]\n",
      "[17]\n",
      "[18]\n",
      "[19]\n",
      "Epoch [6/10], Step [20/30], Loss: 0.9674, Accr:89.03\n",
      "[20]\n",
      "[21]\n",
      "[22]\n",
      "[23]\n",
      "[24]\n",
      "[25]\n",
      "[26]\n",
      "[27]\n",
      "[28]\n",
      "[29]\n",
      "Epoch [6/10], Step [30/30], Loss: 0.8198, Accr:89.03\n",
      "[0]\n",
      "[1]\n",
      "[2]\n",
      "[3]\n",
      "[4]\n",
      "[5]\n",
      "[6]\n",
      "[7]\n",
      "[8]\n",
      "[9]\n",
      "Epoch [7/10], Step [10/30], Loss: 0.1400, Accr:89.03\n",
      "[10]\n",
      "[11]\n",
      "[12]\n",
      "[13]\n",
      "[14]\n",
      "[15]\n",
      "[16]\n",
      "[17]\n",
      "[18]\n",
      "[19]\n",
      "Epoch [7/10], Step [20/30], Loss: 0.2154, Accr:89.03\n",
      "[20]\n",
      "[21]\n",
      "[22]\n",
      "[23]\n",
      "[24]\n",
      "[25]\n",
      "[26]\n",
      "[27]\n",
      "[28]\n",
      "[29]\n",
      "Epoch [7/10], Step [30/30], Loss: 0.1403, Accr:89.03\n",
      "[0]\n",
      "[1]\n",
      "[2]\n",
      "[3]\n",
      "[4]\n",
      "[5]\n",
      "[6]\n",
      "[7]\n",
      "[8]\n",
      "[9]\n",
      "Epoch [8/10], Step [10/30], Loss: 0.1099, Accr:89.03\n",
      "[10]\n",
      "[11]\n",
      "[12]\n",
      "[13]\n",
      "[14]\n",
      "[15]\n",
      "[16]\n",
      "[17]\n",
      "[18]\n",
      "[19]\n",
      "Epoch [8/10], Step [20/30], Loss: 0.0740, Accr:89.03\n",
      "[20]\n",
      "[21]\n",
      "[22]\n",
      "[23]\n",
      "[24]\n",
      "[25]\n",
      "[26]\n",
      "[27]\n",
      "[28]\n",
      "[29]\n",
      "Epoch [8/10], Step [30/30], Loss: 1.1423, Accr:89.03\n",
      "[0]\n",
      "[1]\n",
      "[2]\n",
      "[3]\n",
      "[4]\n",
      "[5]\n",
      "[6]\n",
      "[7]\n",
      "[8]\n",
      "[9]\n",
      "Epoch [9/10], Step [10/30], Loss: 0.2224, Accr:89.03\n",
      "[10]\n",
      "[11]\n",
      "[12]\n",
      "[13]\n",
      "[14]\n",
      "[15]\n",
      "[16]\n",
      "[17]\n",
      "[18]\n",
      "[19]\n",
      "Epoch [9/10], Step [20/30], Loss: 0.1431, Accr:89.03\n",
      "[20]\n",
      "[21]\n",
      "[22]\n",
      "[23]\n",
      "[24]\n",
      "[25]\n",
      "[26]\n",
      "[27]\n",
      "[28]\n",
      "[29]\n",
      "Epoch [9/10], Step [30/30], Loss: 0.2707, Accr:89.03\n",
      "[0]\n",
      "[1]\n",
      "[2]\n",
      "[3]\n",
      "[4]\n",
      "[5]\n",
      "[6]\n",
      "[7]\n",
      "[8]\n",
      "[9]\n",
      "Epoch [10/10], Step [10/30], Loss: 0.6706, Accr:89.03\n",
      "[10]\n",
      "[11]\n",
      "[12]\n",
      "[13]\n",
      "[14]\n",
      "[15]\n",
      "[16]\n",
      "[17]\n",
      "[18]\n",
      "[19]\n",
      "Epoch [10/10], Step [20/30], Loss: 0.1750, Accr:89.03\n",
      "[20]\n",
      "[21]\n",
      "[22]\n",
      "[23]\n",
      "[24]\n",
      "[25]\n",
      "[26]\n",
      "[27]\n",
      "[28]\n",
      "[29]\n",
      "Epoch [10/10], Step [30/30], Loss: 0.1596, Accr:89.03\n"
     ]
    }
   ],
   "source": [
    "# Train the model\n",
    "total_step = len(loaders.train_loader)\n",
    "for epoch in range(num_epochs):\n",
    "    for i, data in enumerate(loaders.train_loader):\n",
    "        texts=data.text.to(device) #(batch_size,length)\n",
    "        labels=data.label.to(device) #batch_size.num_classes\n",
    "        \n",
    "        print(\"[%d]\" %i)\n",
    "        \n",
    "        # Forward pass\n",
    "        outputs = model(texts)\n",
    "        loss = loss_func(outputs, labels)\n",
    "        \n",
    "        # Backward prop.& optimize\n",
    "        optimizer.zero_grad()\n",
    "        loss.backward()\n",
    "        optimizer.step()\n",
    "        \n",
    "        if (i+1) % 10 == 0:\n",
    "            print ('Epoch [{}/{}], Step [{}/{}], Loss: {:.4f}, Accr:{:.2f}' \n",
    "                   .format(epoch+1, num_epochs, i+1, total_step,\n",
    "                           loss.item(),\n",
    "                           ComputeAccr(loaders.valid_loader,model)))"
   ]
  },
  {
   "cell_type": "markdown",
   "metadata": {},
   "source": [
    "# 7. 테스트"
   ]
  },
  {
   "cell_type": "code",
   "execution_count": 15,
   "metadata": {},
   "outputs": [
    {
     "name": "stdout",
     "output_type": "stream",
     "text": [
      "Accuracy of valid Data: 89.03\n"
     ]
    }
   ],
   "source": [
    "print(\"Accuracy of valid Data: %.2f\" %ComputeAccr(loaders.valid_loader, model))"
   ]
  },
  {
   "cell_type": "markdown",
   "metadata": {},
   "source": [
    "# 8. 학습된 파라미터 저장"
   ]
  },
  {
   "cell_type": "code",
   "execution_count": null,
   "metadata": {},
   "outputs": [],
   "source": [
    "netname='./nets/rnn_weight.pkl'\n",
    "torch.save(model, netname,)"
   ]
  },
  {
   "cell_type": "markdown",
   "metadata": {},
   "source": [
    "# 9. 학습된 파라미터 로드"
   ]
  },
  {
   "cell_type": "code",
   "execution_count": null,
   "metadata": {},
   "outputs": [],
   "source": [
    "netname='./nets/rnn_weight.pkl'\n",
    "model=torch.load(netname)"
   ]
  },
  {
   "cell_type": "code",
   "execution_count": null,
   "metadata": {},
   "outputs": [],
   "source": [
    "print(\"Accuracy of Test Data: %.2f\" %ComputeAccr(test_loader, model))"
   ]
  },
  {
   "cell_type": "code",
   "execution_count": null,
   "metadata": {},
   "outputs": [],
   "source": []
  }
 ],
 "metadata": {
  "kernelspec": {
   "display_name": "Python 3",
   "language": "python",
   "name": "python3"
  },
  "language_info": {
   "codemirror_mode": {
    "name": "ipython",
    "version": 3
   },
   "file_extension": ".py",
   "mimetype": "text/x-python",
   "name": "python",
   "nbconvert_exporter": "python",
   "pygments_lexer": "ipython3",
   "version": "3.7.6"
  }
 },
 "nbformat": 4,
 "nbformat_minor": 4
}
